{
 "cells": [
  {
   "cell_type": "code",
   "execution_count": 1,
   "metadata": {},
   "outputs": [],
   "source": [
    "import xarray as xr\n",
    "import matplotlib.pyplot as plt\n",
    "import numpy as np\n",
    "# import cartopy.crs as ccrs\n",
    "# import cartopy.feature as cfeature\n",
    "from matplotlib.animation import FuncAnimation\n",
    "from matplotlib import colors, colorbar\n"
   ]
  },
  {
   "cell_type": "code",
   "execution_count": 2,
   "metadata": {},
   "outputs": [],
   "source": [
    "true_lmask = np.genfromtxt('/nethome/manra003/KempsRidley_turtle_strandings/data/true_landMask_296x_374y', delimiter=None)\n",
    "U_ds = xr.open_dataset('/storage/shared/oceanparcels/input_data/CMEMS/NWSHELF_MULTIYEAR_PHY_004_009/metoffice_foam1_amm7_NWS_CUR_dm20141211.nc')\n"
   ]
  },
  {
   "cell_type": "code",
   "execution_count": 3,
   "metadata": {},
   "outputs": [],
   "source": [
    "home_folder = '/nethome/manra003/analysis/KempRidley/'\n",
    "\n",
    "threshold_t10 = 10\n",
    "threshold_t12 = 12\n",
    "threshold_t14 = 14  # degree Celcius\n",
    "\n",
    "n_particles = 100\n",
    "days = 120\n",
    "wind = '3pWind'\n",
    "\n",
    "figure_dpi = 100"
   ]
  },
  {
   "cell_type": "code",
   "execution_count": 4,
   "metadata": {},
   "outputs": [
    {
     "data": {
      "image/png": "[encoded data removed]",
      "text/plain": [
       "<Figure size 900x700 with 2 Axes>"
      ]
     },
     "metadata": {},
     "output_type": "display_data"
    }
   ],
   "source": [
    "s=\"Westkapelle\"\n",
    "\n",
    "if wind == '0pWind':\n",
    "    data_ds = xr.open_zarr(home_folder + 'simulations/{0}/Sum_BK_{0}_curr+stokes_120days_{1}.zarr'.format(wind, s))\n",
    "else:\n",
    "    data_ds = xr.open_zarr(home_folder + 'simulations/{0}/Sum_BK_{0}_curr+stokes+wind_120days_{1}.zarr'.format(wind, s))\n",
    "\n",
    "\n",
    "lons = U_ds.longitude\n",
    "lats = U_ds.latitude\n",
    "fieldMesh_x, fieldMesh_y = np.meshgrid(lons, lats)\n",
    "\n",
    "figure2 = plt.figure(figsize=(9, 7), dpi=figure_dpi)\n",
    "plt.title('Crossing temperature threshold: {0}'.format(s))\n",
    "colormap = colors.ListedColormap(['white', 'gainsboro'])\n",
    "ax2 = plt.axes()\n",
    "# ax2.pcolormesh(landMask)\n",
    "ax2.pcolormesh(fieldMesh_x[110:201, 120:231], fieldMesh_y[110:201, 120:231], true_lmask[110:200, 120:230],\n",
    "                cmap=colormap)\n",
    "# plt.scatter(fieldMesh_x, fieldMesh_y, s=0.2, c='black')\n",
    "\n",
    "ax2.scatter(data_ds.lon.values, data_ds.lat.values, c='orange', s=2, alpha=0.5)\n",
    "\n",
    "beached = data_ds.where(data_ds.beached == -2)\n",
    "ax2.scatter(beached.lon[:,-1].values, beached.lat[:,-1].values, c='red', s=4, alpha=0.5)\n",
    "\n",
    "# reordering the labels\n",
    "plt.show()\n"
   ]
  },
  {
   "cell_type": "code",
   "execution_count": 5,
   "metadata": {},
   "outputs": [
    {
     "data": {
      "text/plain": [
       "10000"
      ]
     },
     "execution_count": 5,
     "metadata": {},
     "output_type": "execute_result"
    }
   ],
   "source": [
    "np.count_nonzero(~np.isnan(beached.lon[:,-1].values))"
   ]
  },
  {
   "cell_type": "code",
   "execution_count": 6,
   "metadata": {},
   "outputs": [
    {
     "name": "stdout",
     "output_type": "stream",
     "text": [
      "0pWind\n",
      "01pWind\n",
      "1pWind\n",
      "2pWind\n",
      "3pWind\n"
     ]
    },
    {
     "name": "stderr",
     "output_type": "stream",
     "text": [
      "/nethome/manra003/.conda/envs/kemp/lib/python3.9/site-packages/xarray/coding/times.py:251: RuntimeWarning: invalid value encountered in cast\n",
      "  flat_num_dates_ns_int = (flat_num_dates * _NS_PER_TIME_DELTA[delta]).astype(\n"
     ]
    }
   ],
   "source": [
    "winds=['0pWind', '01pWind', '1pWind', '2pWind', '3pWind']\n",
    "stations =['IJmuiden', 'Westenschouwen',  'Monster', 'Den-Helder', 'Westkapelle']\n",
    "\n",
    "stuck=np.zeros((len(stations),len(winds)))\n",
    "for w_i,wind in enumerate(winds):\n",
    "    print(wind)\n",
    "    for s_i,s in enumerate(stations):\n",
    "        if wind == '0pWind':\n",
    "            data_ds = xr.open_zarr(home_folder + 'simulations/{0}/Sum_BK_{0}_curr+stokes_120days_{1}.zarr'.format(wind, s))\n",
    "        else:\n",
    "            data_ds = xr.open_zarr(home_folder + 'simulations/{0}/Sum_BK_{0}_curr+stokes+wind_120days_{1}.zarr'.format(wind, s))\n",
    "        beached = data_ds.where(data_ds.beached == -2)\n",
    "        out=np.count_nonzero(~np.isnan(beached.lon[:,-1].values))\n",
    "        stuck[s_i,w_i]=out\n",
    "\n",
    "\n"
   ]
  },
  {
   "cell_type": "code",
   "execution_count": 7,
   "metadata": {},
   "outputs": [
    {
     "data": {
      "text/plain": [
       "array([[    0.,     0.,  1251.,     6.,  3762.],\n",
       "       [    8.,     0.,   579.,  5531.,    36.],\n",
       "       [    1.,   247., 10000., 10000., 10000.],\n",
       "       [    2.,   351.,  1813.,    14.,     0.],\n",
       "       [ 1860.,   429., 10000., 10000., 10000.]])"
      ]
     },
     "execution_count": 7,
     "metadata": {},
     "output_type": "execute_result"
    }
   ],
   "source": [
    "np.set_printoptions(suppress=True)\n",
    "stuck"
   ]
  },
  {
   "cell_type": "code",
   "execution_count": 8,
   "metadata": {},
   "outputs": [
    {
     "data": {
      "text/plain": [
       "array([ 1871.,  1027., 23643., 25551., 23798.])"
      ]
     },
     "execution_count": 8,
     "metadata": {},
     "output_type": "execute_result"
    }
   ],
   "source": [
    "np.sum(stuck,axis=0)"
   ]
  },
  {
   "cell_type": "code",
   "execution_count": 10,
   "metadata": {},
   "outputs": [
    {
     "data": {
      "text/plain": [
       "array([ 3.742,  2.054, 47.286, 51.102, 47.596])"
      ]
     },
     "execution_count": 10,
     "metadata": {},
     "output_type": "execute_result"
    }
   ],
   "source": [
    "np.sum(stuck,axis=0)/50000*100"
   ]
  }
 ],
 "metadata": {
  "kernelspec": {
   "display_name": "Python 3",
   "language": "python",
   "name": "python3"
  },
  "language_info": {
   "codemirror_mode": {
    "name": "ipython",
    "version": 3
   },
   "file_extension": ".py",
   "mimetype": "text/x-python",
   "name": "python",
   "nbconvert_exporter": "python",
   "pygments_lexer": "ipython3",
   "version": "3.9.16"
  },
  "orig_nbformat": 4
 },
 "nbformat": 4,
 "nbformat_minor": 2
}
